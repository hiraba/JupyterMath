{
 "metadata": {
  "language_info": {
   "codemirror_mode": {
    "name": "ipython",
    "version": 3
   },
   "file_extension": ".py",
   "mimetype": "text/x-python",
   "name": "python",
   "nbconvert_exporter": "python",
   "pygments_lexer": "ipython3",
   "version": "3.8.2"
  },
  "orig_nbformat": 2,
  "kernelspec": {
   "name": "python382jvsc74a57bd020bf69066c0dd38d51965b69d5e1b6e387082e3198ba56e97997ac55f4e50ad0",
   "display_name": "Python 3.8.2 64-bit ('usr')"
  },
  "metadata": {
   "interpreter": {
    "hash": "20bf69066c0dd38d51965b69d5e1b6e387082e3198ba56e97997ac55f4e50ad0"
   }
  }
 },
 "nbformat": 4,
 "nbformat_minor": 2,
 "cells": [
  {
   "source": [
    "Jupyter Notebook で数式を美しく書く\n",
    "https://qiita.com/namoshika/items/63db972bfd1030f8264a"
   ],
   "cell_type": "markdown",
   "metadata": {}
  },
  {
   "source": [
    "自然数（しぜんすう、英: natural number）とは、個数、もしくは順番を表す一群の数のことである。集合論においては、自然数は物の個数を数える基数のうちで有限のものであると考えることもできるし、物の並べ方を示す順序数のうちで有限のものであると考えることもできる。\n",
    "\n",
    "Three apples(1).svg\n",
    "自然数を 1, 2, 3, … とする流儀と、0, 1, 2, 3, … とする流儀があり、前者は数論などでよく使われ、後者は集合論、論理学などでよく使われる（詳しくは自然数の歴史と零の地位の節を参照）。日本では高校教育課程においては0を入れないが、大学以降では0を含めることも多い。いずれにしても、0 を自然数に含めるかどうかが問題になるときは、その旨を明記する必要がある。自然数の代わりに非負整数または正整数と言い換えることによりこの問題を避けることもある。\n",
    "\n",
    "数学の基礎付けにおいては、自然数の間の加法についての形式的な逆元を考えることによって整数を定義する。正の整数ないしは負でない整数を自然数と同一視し、自然数を整数の一部として取扱うことができる。自然数と同様に整数の全体も可算無限集合である。\n",
    "\n",
    "なお、文脈によっては、その一群に属する個々の数（例えば 3 や 18）を指して自然数ということもある。\n",
    "\n",
    "自然数全体の成す集合は普通 Natural number の頭文字をとって\n",
    "$$\n",
    "    N\n",
    "$$\n",
    "0 を含むかどうかの曖昧さを避けるために、正の整数（0 を含まない）を次のように表すこともある:\n",
    "$$\n",
    "    N^{+}\n",
    "    N_{+}\n",
    "$$"
   ],
   "cell_type": "markdown",
   "metadata": {}
  }
 ]
}